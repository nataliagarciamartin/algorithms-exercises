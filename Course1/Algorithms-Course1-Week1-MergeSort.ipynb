{
 "cells": [
  {
   "cell_type": "code",
   "execution_count": null,
   "metadata": {},
   "outputs": [],
   "source": [
    "# Merge sort algorithm"
   ]
  },
  {
   "cell_type": "code",
   "execution_count": 178,
   "metadata": {},
   "outputs": [],
   "source": [
    "def merge_sort(list_):\n",
    "    \n",
    "    assert type(list_) == list, \"Input must be a list of integers\"\n",
    "    \n",
    "    if len(list_)<2: # if empty or if length 1 base case to return\n",
    "        return list_\n",
    "    \n",
    "    split_id = len(list_)//2 \n",
    "    \n",
    "    first_half = list_[:split_id]      # Split into two sub-lists and sort recursively\n",
    "    second_half = list_[split_id:]\n",
    "    \n",
    "    sort1 = merge_sort(first_half) \n",
    "    sort2 = merge_sort(second_half)\n",
    "    \n",
    "    i = 0; j = 0; k = 0;                     # Merge sub-lists\n",
    "    while i < len(sort1) and j < len(sort2): # Add elements up to the max common length\n",
    "        if sort1[i] < sort2[j]:\n",
    "            list_[k] = sort1[i]\n",
    "            i += 1           \n",
    "        else:\n",
    "            list_[k] = sort2[j]\n",
    "            j += 1\n",
    "        k += 1\n",
    "            \n",
    "    while i < len(sort1):       # Add remaining elements from first sublist\n",
    "        list_[k] = sort1[i]\n",
    "        i += 1\n",
    "        k += 1\n",
    "                \n",
    "    while j < len(sort2):       # Add remaining elements from second sublist\n",
    "        list_[k] = sort2[j]\n",
    "        j += 1 \n",
    "        k += 1\n",
    "    \n",
    "    return(list_)"
   ]
  },
  {
   "cell_type": "code",
   "execution_count": 177,
   "metadata": {},
   "outputs": [
    {
     "data": {
      "text/plain": [
       "[1, 2, 3, 4, 5, 6, 7, 8]"
      ]
     },
     "execution_count": 177,
     "metadata": {},
     "output_type": "execute_result"
    }
   ],
   "source": [
    "input_list = [5,4,1,8,7,2,6,3]\n",
    "merge_sort(input_list)"
   ]
  }
 ],
 "metadata": {
  "kernelspec": {
   "display_name": "Python 3",
   "language": "python",
   "name": "python3"
  },
  "language_info": {
   "codemirror_mode": {
    "name": "ipython",
    "version": 3
   },
   "file_extension": ".py",
   "mimetype": "text/x-python",
   "name": "python",
   "nbconvert_exporter": "python",
   "pygments_lexer": "ipython3",
   "version": "3.7.4"
  }
 },
 "nbformat": 4,
 "nbformat_minor": 2
}
