{
 "cells": [
  {
   "cell_type": "code",
   "execution_count": null,
   "metadata": {},
   "outputs": [],
   "source": [
    "# Algorithms Course 1 - Week 1 Assignment: Karatsuba's algorithm"
   ]
  },
  {
   "cell_type": "code",
   "execution_count": 104,
   "metadata": {},
   "outputs": [],
   "source": [
    "int1 = 3141592653589793238462643383279502884197169399375105820974944592\n",
    "int2 = 2718281828459045235360287471352662497757247093699959574966967627"
   ]
  },
  {
   "cell_type": "code",
   "execution_count": 126,
   "metadata": {},
   "outputs": [],
   "source": [
    "def karatsuba(int1, int2):\n",
    "\n",
    "    if len(str(int1)) == 1 or len(str(int2)) == 1:        \n",
    "        return int1*int2\n",
    "        \n",
    "    n = max(len(str(int1)), len(str(int2)))\n",
    "    n2 = ceil(n/2)\n",
    "        \n",
    "    a = int1// 10**n2  \n",
    "    b = int1 % 10**n2\n",
    "    c = int2// 10**n2\n",
    "    d = int2 % 10**n2\n",
    "\n",
    "    ac = karatsuba(a, c)\n",
    "    bd = karatsuba(b, d)\n",
    "    abcd = karatsuba(a+b, c+d)\n",
    "        \n",
    "    sumadbc = abcd - ac - bd \n",
    "    prod = 10**(n2*2)*ac + 10**n2*sumadbc + bd\n",
    "\n",
    "    return prod"
   ]
  },
  {
   "cell_type": "code",
   "execution_count": 128,
   "metadata": {},
   "outputs": [
    {
     "data": {
      "text/plain": [
       "True"
      ]
     },
     "execution_count": 128,
     "metadata": {},
     "output_type": "execute_result"
    }
   ],
   "source": [
    "karatsuba(int1, int2) == int1*int2"
   ]
  }
 ],
 "metadata": {
  "kernelspec": {
   "display_name": "Python 3",
   "language": "python",
   "name": "python3"
  },
  "language_info": {
   "codemirror_mode": {
    "name": "ipython",
    "version": 3
   },
   "file_extension": ".py",
   "mimetype": "text/x-python",
   "name": "python",
   "nbconvert_exporter": "python",
   "pygments_lexer": "ipython3",
   "version": "3.7.4"
  }
 },
 "nbformat": 4,
 "nbformat_minor": 2
}
